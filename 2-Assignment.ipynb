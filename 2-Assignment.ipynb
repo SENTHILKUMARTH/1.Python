{
 "cells": [
  {
   "cell_type": "code",
   "execution_count": 9,
   "id": "c418fb83-d746-439c-b338-1c28a29c5b9f",
   "metadata": {
    "scrolled": true
   },
   "outputs": [
    {
     "name": "stdout",
     "output_type": "stream",
     "text": [
      "0\n",
      "1\n",
      "2\n",
      "3\n",
      "4\n",
      "5\n",
      "6\n",
      "7\n",
      "8\n",
      "9\n",
      "10\n",
      "11\n",
      "12\n",
      "13\n",
      "14\n",
      "15\n",
      "16\n",
      "17\n",
      "18\n",
      "19\n"
     ]
    }
   ],
   "source": [
    "for x in range(0,20):\n",
    "    print(x)"
   ]
  },
  {
   "cell_type": "code",
   "execution_count": 11,
   "id": "3887749e-c52b-4638-87a8-859a9738fbd7",
   "metadata": {
    "scrolled": true
   },
   "outputs": [
    {
     "name": "stdout",
     "output_type": "stream",
     "text": [
      "10\n",
      "11\n",
      "12\n",
      "13\n",
      "14\n",
      "15\n",
      "16\n",
      "17\n",
      "18\n",
      "19\n"
     ]
    }
   ],
   "source": [
    "for x in range(10,20):\n",
    "    print(x)"
   ]
  },
  {
   "cell_type": "code",
   "execution_count": 25,
   "id": "51721d78-69c9-48c3-9888-076c068a70f1",
   "metadata": {
    "scrolled": true
   },
   "outputs": [
    {
     "name": "stdout",
     "output_type": "stream",
     "text": [
      "10\n",
      "20\n",
      "14\n",
      "55\n",
      "43\n",
      "87\n",
      "76\n",
      "Number of item in the List2 :  7\n"
     ]
    }
   ],
   "source": [
    "list2 = [10,20,14,55,43,87,76]\n",
    "for x in list2:\n",
    "    print(x)\n",
    "print(\"Number of item in the List2 : \", len(list2))"
   ]
  },
  {
   "cell_type": "code",
   "execution_count": 29,
   "id": "95cbb5fb-38bf-47a6-9b02-fb52471dac36",
   "metadata": {},
   "outputs": [
    {
     "name": "stdout",
     "output_type": "stream",
     "text": [
      "A\n",
      "r\n",
      "t\n",
      "i\n",
      "f\n",
      "i\n",
      "c\n",
      "a\n",
      "l\n",
      " \n",
      "I\n",
      "n\n",
      "t\n",
      "e\n",
      "l\n",
      "l\n",
      "i\n",
      "g\n",
      "e\n",
      "n\n",
      "c\n",
      "e\n",
      "Artifical Intelligence\n"
     ]
    }
   ],
   "source": [
    "value = \"Artifical Intelligence\";\n",
    "for x in value:\n",
    "    print(x)\n",
    "print(\"Artifical Intelligence\")\n"
   ]
  },
  {
   "cell_type": "code",
   "execution_count": 5,
   "id": "2ad07294-238d-4de1-867f-14592d79766e",
   "metadata": {},
   "outputs": [
    {
     "name": "stdout",
     "output_type": "stream",
     "text": [
      "-Your Name-\n",
      "-Your Age-\n",
      "-Your Profession-\n"
     ]
    }
   ],
   "source": [
    "List= [\"-Your Name-\",\"-Your Age-\",\"-Your Profession-\"]\n",
    "for i in List:\n",
    "    print(i)"
   ]
  },
  {
   "cell_type": "code",
   "execution_count": 33,
   "id": "ffe690a3-f0db-44fa-ada4-8f0eb5011caf",
   "metadata": {},
   "outputs": [
    {
     "name": "stdout",
     "output_type": "stream",
     "text": [
      "(1, 'Welcome', 2, 'Hope')\n"
     ]
    }
   ],
   "source": [
    "#Tuples\n",
    "Tuple1 = (1,'Welcome',2,'Hope')\n",
    "print(Tuple1)"
   ]
  },
  {
   "cell_type": "code",
   "execution_count": 71,
   "id": "aa9d4ad7-ba60-4569-815d-09161dec7f7f",
   "metadata": {},
   "outputs": [
    {
     "name": "stdout",
     "output_type": "stream",
     "text": [
      "(0, 1, 2, 3) ('Python', 'Hope')\n"
     ]
    }
   ],
   "source": [
    "#Mixed Tuples\n",
    "Tuple1 = (0, 1, 2, 3)\n",
    "Tuple2 = ('Python','Hope')\n",
    "print(Tuple1,Tuple2)"
   ]
  },
  {
   "cell_type": "code",
   "execution_count": 69,
   "id": "522044f7-3ef4-41c5-8488-55090f473111",
   "metadata": {},
   "outputs": [
    {
     "name": "stdout",
     "output_type": "stream",
     "text": [
      "19 is odd\n",
      "25 is odd\n",
      "1 is odd\n"
     ]
    }
   ],
   "source": [
    "#print Odd Numbers in the list\n",
    "list = (20,10,16,19,25,1,276,188)\n",
    "for x in list:\n",
    "    if(x%2==1):\n",
    "        print(x, \"is odd\")"
   ]
  },
  {
   "cell_type": "code",
   "execution_count": 67,
   "id": "7a7a2d2c-98b2-4b7b-ba00-bf51cefb18f9",
   "metadata": {},
   "outputs": [
    {
     "name": "stdout",
     "output_type": "stream",
     "text": [
      "20 is even\n",
      "10 is even\n",
      "16 is even\n",
      "276 is even\n",
      "188 is even\n"
     ]
    }
   ],
   "source": [
    "#print Even numbers in the list\n",
    "list = (20,10,16,19,25,1,276,188)\n",
    "for x in list:\n",
    "    if(x%2 == 0):\n",
    "        print(x, \"is even\")\n"
   ]
  },
  {
   "cell_type": "code",
   "execution_count": null,
   "id": "5f1eed0c-9068-4586-add0-6f0374ee5390",
   "metadata": {},
   "outputs": [],
   "source": []
  }
 ],
 "metadata": {
  "kernelspec": {
   "display_name": "Python 3 (ipykernel)",
   "language": "python",
   "name": "python3"
  },
  "language_info": {
   "codemirror_mode": {
    "name": "ipython",
    "version": 3
   },
   "file_extension": ".py",
   "mimetype": "text/x-python",
   "name": "python",
   "nbconvert_exporter": "python",
   "pygments_lexer": "ipython3",
   "version": "3.12.4"
  }
 },
 "nbformat": 4,
 "nbformat_minor": 5
}
