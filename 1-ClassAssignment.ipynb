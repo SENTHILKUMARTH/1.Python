{
 "cells": [
  {
   "cell_type": "code",
   "execution_count": 1,
   "id": "0e09f78c-fd65-41af-b055-aa6f30599ff4",
   "metadata": {},
   "outputs": [],
   "source": [
    "#create a class and function, and list out the items in the list\n",
    "class SubFieldsInAI():\n",
    "    def Subfields():\n",
    "        print(\"Sub-fields in AI Are:\")\n",
    "        list = ('Machine Learning', 'Neural Networks', 'Vision', 'Robotics', 'Speech Processing', 'Natural Language Processing')\n",
    "        for lists in list:\n",
    "            print(lists)    "
   ]
  },
  {
   "cell_type": "code",
   "execution_count": 3,
   "id": "ef5a270c-b5c0-4953-baef-5294ede166cb",
   "metadata": {},
   "outputs": [
    {
     "name": "stdout",
     "output_type": "stream",
     "text": [
      "Sub-fields in AI Are:\n",
      "Machine Learning\n",
      "Neural Networks\n",
      "Vision\n",
      "Robotics\n",
      "Speech Processing\n",
      "Natural Language Processing\n"
     ]
    }
   ],
   "source": [
    "SubFieldsInAI.Subfields()"
   ]
  },
  {
   "cell_type": "code",
   "execution_count": 5,
   "id": "ffbf2ea9-a10d-4548-aeb2-81d592b12bfa",
   "metadata": {},
   "outputs": [],
   "source": [
    "# Create a function that checks whether the given number is Odd or Even\n",
    "def OddorEven():\n",
    "    if(val % 2 == 0):\n",
    "        print(val ,\" is Even number\")\n",
    "    else:\n",
    "        print(val, \" is Odd number\")"
   ]
  },
  {
   "cell_type": "code",
   "execution_count": 9,
   "id": "765acde0-9cab-4699-843c-03c11905c9bd",
   "metadata": {},
   "outputs": [
    {
     "name": "stdin",
     "output_type": "stream",
     "text": [
      "Enter a number: 23\n"
     ]
    },
    {
     "name": "stdout",
     "output_type": "stream",
     "text": [
      "23  is Odd number\n"
     ]
    }
   ],
   "source": [
    "val = int(input(\"Enter a number:\"))\n",
    "OddorEven()"
   ]
  },
  {
   "cell_type": "code",
   "execution_count": 11,
   "id": "8b9ea0c2-a436-4a5a-9fe4-a9a28e30a952",
   "metadata": {},
   "outputs": [],
   "source": [
    "#Create a function that tells elegibility of marriage for male and female according to their age limit like 21 for male and 18 for female\n",
    "class ElegiblityForMarriage():\n",
    "    def Elegible():\n",
    "        if(Gender == \"Male\"):\n",
    "            if(age >= 21):\n",
    "                print(\"Elegibile\")\n",
    "            else:\n",
    "                print(\"Not Elegibile\")\n",
    "        else:\n",
    "            if(age >= 18):\n",
    "                print(\"Elegibile\")\n",
    "            else:\n",
    "                print(\"Not Elegibile\")"
   ]
  },
  {
   "cell_type": "code",
   "execution_count": 13,
   "id": "c3d66f22-f874-425a-b56a-4d21cf1000dc",
   "metadata": {},
   "outputs": [
    {
     "name": "stdin",
     "output_type": "stream",
     "text": [
      "Your Gender: Male\n",
      "Your Age: 23\n"
     ]
    },
    {
     "name": "stdout",
     "output_type": "stream",
     "text": [
      "Elegibile\n"
     ]
    }
   ],
   "source": [
    "Gender = input(\"Your Gender:\")\n",
    "age = int(input(\"Your Age:\"))\n",
    "ElegiblityForMarriage.Elegible()"
   ]
  },
  {
   "cell_type": "code",
   "execution_count": 15,
   "id": "4bd84e76-c565-4496-8441-42c326fa5f1c",
   "metadata": {},
   "outputs": [],
   "source": [
    "#calculate the percentage of your 10th mark\n",
    "class FindPercent():\n",
    "    def percentage():\n",
    "        print(\"Total : \", Total)\n",
    "        print(\"Percentage : \", Total / 5)"
   ]
  },
  {
   "cell_type": "code",
   "execution_count": 17,
   "id": "967da0e2-186c-4fd1-a52f-83b465b7cb38",
   "metadata": {},
   "outputs": [
    {
     "name": "stdin",
     "output_type": "stream",
     "text": [
      "Subject1 =  2\n",
      "Subject2 =  23\n",
      "Subject3 =  34\n",
      "Subject4 =  23\n",
      "Subject5 =  23\n"
     ]
    },
    {
     "name": "stdout",
     "output_type": "stream",
     "text": [
      "Total :  105\n",
      "Percentage :  21.0\n"
     ]
    }
   ],
   "source": [
    "Sub1 = int(input(\"Subject1 = \"))\n",
    "Sub2 = int(input(\"Subject2 = \"))\n",
    "Sub3 = int(input(\"Subject3 = \"))\n",
    "Sub4 = int(input(\"Subject4 = \"))\n",
    "Sub5 = int(input(\"Subject5 = \"))\n",
    "Total = Sub1 + Sub2 + Sub3 + Sub4 + Sub5\n",
    "FindPercent.percentage()"
   ]
  },
  {
   "cell_type": "code",
   "execution_count": 39,
   "id": "f4c72a48-bfbb-43be-a7de-934e45303f69",
   "metadata": {},
   "outputs": [],
   "source": [
    "#print area and perimeter of triangle using class and functions\n",
    "class triangle():\n",
    "    def triangle():\n",
    "        print(\"Area of Triangle : \", ((Height * Breadth1)/2))\n",
    "        Height1 = int(input(\"Height 1:\"))\n",
    "        Height2 = int(input(\"Height 2:\"))\n",
    "        Breadth = int(input(\"Breadth:\"))\n",
    "        print(\"Perimeter of Triangle : \", Height1 + Height2 + Breadth)"
   ]
  },
  {
   "cell_type": "code",
   "execution_count": 41,
   "id": "2676645a-3e2f-4b83-a5c8-cb9c37182656",
   "metadata": {},
   "outputs": [
    {
     "name": "stdin",
     "output_type": "stream",
     "text": [
      "Height : 23\n",
      "Breadth : 23\n"
     ]
    },
    {
     "name": "stdout",
     "output_type": "stream",
     "text": [
      "Area of Triangle :  264.5\n"
     ]
    },
    {
     "name": "stdin",
     "output_type": "stream",
     "text": [
      "Height 1: 12\n",
      "Height 2: 23\n",
      "Breadth: 12\n"
     ]
    },
    {
     "name": "stdout",
     "output_type": "stream",
     "text": [
      "Perimeter of Triangle :  47\n"
     ]
    }
   ],
   "source": [
    "Height = int(input(\"Height :\"))\n",
    "Breadth1 = int(input(\"Breadth :\"))\n",
    "triangle.triangle()"
   ]
  },
  {
   "cell_type": "code",
   "execution_count": null,
   "id": "4c307cd8-dce4-434a-aa17-4483141e89f9",
   "metadata": {},
   "outputs": [],
   "source": []
  }
 ],
 "metadata": {
  "kernelspec": {
   "display_name": "Python 3 (ipykernel)",
   "language": "python",
   "name": "python3"
  },
  "language_info": {
   "codemirror_mode": {
    "name": "ipython",
    "version": 3
   },
   "file_extension": ".py",
   "mimetype": "text/x-python",
   "name": "python",
   "nbconvert_exporter": "python",
   "pygments_lexer": "ipython3",
   "version": "3.12.4"
  }
 },
 "nbformat": 4,
 "nbformat_minor": 5
}
