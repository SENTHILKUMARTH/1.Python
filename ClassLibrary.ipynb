{
 "cells": [
  {
   "cell_type": "code",
   "execution_count": 1,
   "id": "aa1f174f-791b-4f86-bfdb-58bcc4e13753",
   "metadata": {},
   "outputs": [
    {
     "name": "stdin",
     "output_type": "stream",
     "text": [
      "Enter the BMI Index 23\n"
     ]
    },
    {
     "name": "stdout",
     "output_type": "stream",
     "text": [
      "Normal weight\n"
     ]
    }
   ],
   "source": [
    "from allFunctions import allFunc\n",
    "allFunc.BMI()"
   ]
  },
  {
   "cell_type": "code",
   "execution_count": 2,
   "id": "9f5cfa44-088b-4305-8dee-f0cb237129ef",
   "metadata": {},
   "outputs": [
    {
     "name": "stdin",
     "output_type": "stream",
     "text": [
      "Enter a number: 23\n"
     ]
    },
    {
     "name": "stdout",
     "output_type": "stream",
     "text": [
      "23  is Odd number\n"
     ]
    }
   ],
   "source": [
    "allFunc.OddorEven()"
   ]
  },
  {
   "cell_type": "code",
   "execution_count": 3,
   "id": "930d6fd4-2a93-4ba3-a27d-735ff0abea61",
   "metadata": {},
   "outputs": [
    {
     "name": "stdout",
     "output_type": "stream",
     "text": [
      "Sub-fields in AI Are:\n",
      "Machine Learning\n",
      "Neural Networks\n",
      "Vision\n",
      "Robotics\n",
      "Speech Processing\n",
      "Natural Language Processing\n"
     ]
    }
   ],
   "source": [
    "allFunc.Subfields()"
   ]
  },
  {
   "cell_type": "code",
   "execution_count": 4,
   "id": "1d3a4615-7396-43fe-88a4-974fe0bc0b4a",
   "metadata": {},
   "outputs": [
    {
     "name": "stdin",
     "output_type": "stream",
     "text": [
      "Your Gender: Male\n",
      "Your Age: 32\n"
     ]
    },
    {
     "name": "stdout",
     "output_type": "stream",
     "text": [
      "Elegibile\n"
     ]
    }
   ],
   "source": [
    "allFunc.Elegible()"
   ]
  },
  {
   "cell_type": "code",
   "execution_count": 5,
   "id": "4be8a05d-ed67-4662-995b-b3d666ba86a8",
   "metadata": {},
   "outputs": [
    {
     "name": "stdin",
     "output_type": "stream",
     "text": [
      "Subject1 =  23\n",
      "Subject2 =  41\n",
      "Subject3 =  22\n",
      "Subject4 =  31\n",
      "Subject5 =  39\n"
     ]
    },
    {
     "name": "stdout",
     "output_type": "stream",
     "text": [
      "Total :  156.0\n",
      "Percentage :  31.2\n"
     ]
    }
   ],
   "source": [
    "allFunc.percentage()"
   ]
  },
  {
   "cell_type": "code",
   "execution_count": 6,
   "id": "e51a2f2b-003b-4f01-842a-471a05e2af8b",
   "metadata": {},
   "outputs": [
    {
     "name": "stdin",
     "output_type": "stream",
     "text": [
      "Height : 38\n",
      "Breadth : 20\n"
     ]
    },
    {
     "name": "stdout",
     "output_type": "stream",
     "text": [
      "Area formula : (Height * Breadth1)/2\n",
      "Area of Triangle :  380.0\n"
     ]
    },
    {
     "name": "stdin",
     "output_type": "stream",
     "text": [
      "Height 1: 28\n",
      "Height 2: 18\n",
      "Breadth: 182\n"
     ]
    },
    {
     "name": "stdout",
     "output_type": "stream",
     "text": [
      "Perimeter formula : Height1 + Height2 + Breadth\n",
      "Perimeter of Triangle :  228\n"
     ]
    }
   ],
   "source": [
    "allFunc.triangle()"
   ]
  }
 ],
 "metadata": {
  "kernelspec": {
   "display_name": "Python 3 (ipykernel)",
   "language": "python",
   "name": "python3"
  },
  "language_info": {
   "codemirror_mode": {
    "name": "ipython",
    "version": 3
   },
   "file_extension": ".py",
   "mimetype": "text/x-python",
   "name": "python",
   "nbconvert_exporter": "python",
   "pygments_lexer": "ipython3",
   "version": "3.12.4"
  }
 },
 "nbformat": 4,
 "nbformat_minor": 5
}
