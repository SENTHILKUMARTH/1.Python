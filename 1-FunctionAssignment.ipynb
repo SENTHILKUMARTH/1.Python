{
 "cells": [
  {
   "cell_type": "code",
   "execution_count": 59,
   "id": "0e09f78c-fd65-41af-b055-aa6f30599ff4",
   "metadata": {},
   "outputs": [],
   "source": [
    "#create a class and function, and list out the items in the list\n",
    "def Subfields():\n",
    "    print(\"Sub-fields in AI Are:\")\n",
    "    list = ('Machine Learning', 'Neural Networks', 'Vision', 'Robotics', 'Speech Processing', 'Natural Language Processing')\n",
    "    for lists in list:\n",
    "        print(lists)    "
   ]
  },
  {
   "cell_type": "code",
   "execution_count": 61,
   "id": "ef5a270c-b5c0-4953-baef-5294ede166cb",
   "metadata": {},
   "outputs": [
    {
     "name": "stdout",
     "output_type": "stream",
     "text": [
      "Sub-fields in AI Are:\n",
      "Machine Learning\n",
      "Neural Networks\n",
      "Vision\n",
      "Robotics\n",
      "Speech Processing\n",
      "Natural Language Processing\n"
     ]
    }
   ],
   "source": [
    "Subfields()"
   ]
  },
  {
   "cell_type": "code",
   "execution_count": 17,
   "id": "ffbf2ea9-a10d-4548-aeb2-81d592b12bfa",
   "metadata": {},
   "outputs": [],
   "source": [
    "# Create a function that checks whether the given number is Odd or Even\n",
    "def OddorEven():\n",
    "    if(val % 2 == 0):\n",
    "        print(val ,\" is Even number\")\n",
    "    else:\n",
    "        print(val, \" is Odd number\")"
   ]
  },
  {
   "cell_type": "code",
   "execution_count": 21,
   "id": "765acde0-9cab-4699-843c-03c11905c9bd",
   "metadata": {},
   "outputs": [
    {
     "name": "stdin",
     "output_type": "stream",
     "text": [
      "Enter a number: 52452\n"
     ]
    },
    {
     "name": "stdout",
     "output_type": "stream",
     "text": [
      "52452  is Even number\n"
     ]
    }
   ],
   "source": [
    "val = int(input(\"Enter a number:\"))\n",
    "OddorEven()"
   ]
  },
  {
   "cell_type": "code",
   "execution_count": 3,
   "id": "8b9ea0c2-a436-4a5a-9fe4-a9a28e30a952",
   "metadata": {},
   "outputs": [],
   "source": [
    "#Create a function that tells elegibility of marriage for male and female according to their age limit like 21 for male and 18 for female\n",
    "def Elegible():\n",
    "    if(Gender == \"Male\" and age >= 21) or (Gender == \"Female\" and age >= 18):\n",
    "        if(age >= 21):\n",
    "            print(\"Elegibile\")\n",
    "        else:\n",
    "            print(\"Not Elegibile\")"
   ]
  },
  {
   "cell_type": "code",
   "execution_count": 33,
   "id": "c3d66f22-f874-425a-b56a-4d21cf1000dc",
   "metadata": {},
   "outputs": [
    {
     "name": "stdin",
     "output_type": "stream",
     "text": [
      "Your Gender: Male\n",
      "Your Age: 20\n"
     ]
    },
    {
     "name": "stdout",
     "output_type": "stream",
     "text": [
      "Not Elegibile\n"
     ]
    }
   ],
   "source": [
    "Gender = input(\"Your Gender:\")\n",
    "age = int(input(\"Your Age:\"))\n",
    "ElegiblityForMarriage.Elegible()"
   ]
  },
  {
   "cell_type": "code",
   "execution_count": 65,
   "id": "4bd84e76-c565-4496-8441-42c326fa5f1c",
   "metadata": {},
   "outputs": [],
   "source": [
    "#calculate the percentage of your 10th mark\n",
    "def percentage():\n",
    "    print(\"Total : \", Total)\n",
    "    print(\"Percentage : \", Total / 5)"
   ]
  },
  {
   "cell_type": "code",
   "execution_count": 69,
   "id": "967da0e2-186c-4fd1-a52f-83b465b7cb38",
   "metadata": {},
   "outputs": [
    {
     "name": "stdin",
     "output_type": "stream",
     "text": [
      "Subject1 =  23\n",
      "Subject2 =  23\n",
      "Subject3 =  23\n",
      "Subject4 =  2\n",
      "Subject5 =  23\n"
     ]
    },
    {
     "name": "stdout",
     "output_type": "stream",
     "text": [
      "Total :  94.0\n",
      "Percentage :  18.8\n"
     ]
    }
   ],
   "source": [
    "Sub1 = int(input(\"Subject1 = \"))\n",
    "Sub2 = int(input(\"Subject2 = \"))\n",
    "Sub3 = int(input(\"Subject3 = \"))\n",
    "Sub4 = int(input(\"Subject4 = \"))\n",
    "Sub5 = float(input(\"Subject5 = \"))\n",
    "Total = Sub1 + Sub2 + Sub3 + Sub4 + Sub5\n",
    "percentage()"
   ]
  },
  {
   "cell_type": "code",
   "execution_count": 77,
   "id": "f4c72a48-bfbb-43be-a7de-934e45303f69",
   "metadata": {},
   "outputs": [],
   "source": [
    "#print area and perimeter of triangle using class and functions\n",
    "def triangle():\n",
    "    print(\"Area formula : (Height * Breadth1)/2\")\n",
    "    print(\"Area of Triangle : \", ((Height * Breadth1)/2))\n",
    "    Height1 = int(input(\"Height 1:\"))\n",
    "    Height2 = int(input(\"Height 2:\"))\n",
    "    Breadth = int(input(\"Breadth:\"))\n",
    "    print(\"Perimeter formula : Height1 + Height2 + Breadth\")\n",
    "    print(\"Perimeter of Triangle : \", Height1 + Height2 + Breadth)"
   ]
  },
  {
   "cell_type": "code",
   "execution_count": 81,
   "id": "2676645a-3e2f-4b83-a5c8-cb9c37182656",
   "metadata": {},
   "outputs": [
    {
     "name": "stdin",
     "output_type": "stream",
     "text": [
      "Height : 3\n",
      "Breadth : 4\n"
     ]
    },
    {
     "name": "stdout",
     "output_type": "stream",
     "text": [
      "Area formula : (Height * Breadth1)/2\n",
      "Area of Triangle :  6.0\n"
     ]
    },
    {
     "name": "stdin",
     "output_type": "stream",
     "text": [
      "Height 1: 3\n",
      "Height 2: 4\n",
      "Breadth: 45\n"
     ]
    },
    {
     "name": "stdout",
     "output_type": "stream",
     "text": [
      "Perimeter formula : Height1 + Height2 + Breadth\n",
      "Perimeter of Triangle :  52\n"
     ]
    }
   ],
   "source": [
    "Height = int(input(\"Height :\"))\n",
    "Breadth1 = int(input(\"Breadth :\"))\n",
    "triangle()"
   ]
  },
  {
   "cell_type": "code",
   "execution_count": null,
   "id": "4c307cd8-dce4-434a-aa17-4483141e89f9",
   "metadata": {},
   "outputs": [],
   "source": []
  }
 ],
 "metadata": {
  "kernelspec": {
   "display_name": "Python 3 (ipykernel)",
   "language": "python",
   "name": "python3"
  },
  "language_info": {
   "codemirror_mode": {
    "name": "ipython",
    "version": 3
   },
   "file_extension": ".py",
   "mimetype": "text/x-python",
   "name": "python",
   "nbconvert_exporter": "python",
   "pygments_lexer": "ipython3",
   "version": "3.12.4"
  }
 },
 "nbformat": 4,
 "nbformat_minor": 5
}
