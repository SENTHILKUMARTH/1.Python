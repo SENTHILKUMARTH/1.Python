{
 "cells": [
  {
   "cell_type": "code",
   "execution_count": 1,
   "id": "78c589ad-9126-4d89-893f-9ded8f99c3ea",
   "metadata": {},
   "outputs": [
    {
     "name": "stdout",
     "output_type": "stream",
     "text": [
      "Welcome to Assignment-1\n"
     ]
    }
   ],
   "source": [
    "print(\"Welcome to Assignment-1\")"
   ]
  },
  {
   "cell_type": "code",
   "execution_count": 5,
   "id": "5acc07a7-fcba-40e1-a25b-823e9b597df3",
   "metadata": {},
   "outputs": [
    {
     "name": "stdin",
     "output_type": "stream",
     "text": [
      "Num1 =  20\n",
      "Num2 =  20\n"
     ]
    },
    {
     "name": "stdout",
     "output_type": "stream",
     "text": [
      "Add =  40\n"
     ]
    }
   ],
   "source": [
    "Num1 = int(input(\"Num1 = \"))\n",
    "Num2 = int(input(\"Num2 = \"))\n",
    "print(\"Add = \", Num1 + Num2)"
   ]
  },
  {
   "cell_type": "code",
   "execution_count": 15,
   "id": "9bf8a57c-cd4c-4d9f-a27f-d6200596af50",
   "metadata": {},
   "outputs": [
    {
     "name": "stdin",
     "output_type": "stream",
     "text": [
      "Enter the BMI Index 18.5\n"
     ]
    },
    {
     "name": "stdout",
     "output_type": "stream",
     "text": [
      "Normal weight\n"
     ]
    }
   ],
   "source": [
    "bmi = float(input(\"Enter the BMI Index\"))\n",
    "if bmi < 18.5:\n",
    "    print(\"Underweight\")\n",
    "elif 18.5 <= bmi < 24.9:\n",
    "    print(\"Normal weight\")\n",
    "elif 25 <= bmi < 29.9:\n",
    "    print(\"Overweight\")\n",
    "else:\n",
    "    print(\"Very Overweight\")"
   ]
  },
  {
   "cell_type": "code",
   "execution_count": null,
   "id": "cbe8aa1d-3e60-481c-a43e-126306b8d896",
   "metadata": {},
   "outputs": [],
   "source": []
  }
 ],
 "metadata": {
  "kernelspec": {
   "display_name": "Python 3 (ipykernel)",
   "language": "python",
   "name": "python3"
  },
  "language_info": {
   "codemirror_mode": {
    "name": "ipython",
    "version": 3
   },
   "file_extension": ".py",
   "mimetype": "text/x-python",
   "name": "python",
   "nbconvert_exporter": "python",
   "pygments_lexer": "ipython3",
   "version": "3.12.4"
  }
 },
 "nbformat": 4,
 "nbformat_minor": 5
}
