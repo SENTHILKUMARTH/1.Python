{
 "cells": [
  {
   "cell_type": "code",
   "execution_count": 1,
   "id": "eaa3d9a4-9bc9-43f6-b31c-c980fe7fc4e1",
   "metadata": {},
   "outputs": [
    {
     "name": "stdout",
     "output_type": "stream",
     "text": [
      "HOPE AI\n"
     ]
    }
   ],
   "source": [
    "print(\"HOPE AI\");"
   ]
  },
  {
   "cell_type": "code",
   "execution_count": 7,
   "id": "97267412-dace-49d5-abb9-f9b4142a986d",
   "metadata": {},
   "outputs": [
    {
     "name": "stdin",
     "output_type": "stream",
     "text": [
      "Enter your institute name? : Hope AI\n"
     ]
    }
   ],
   "source": [
    "value =input(\"Enter your institute name? :\")"
   ]
  },
  {
   "cell_type": "code",
   "execution_count": 11,
   "id": "9f5eab36-4517-4110-9171-fdb9913abb38",
   "metadata": {},
   "outputs": [
    {
     "name": "stdin",
     "output_type": "stream",
     "text": [
      "Enter your name: Raj\n",
      "Enter your age: 15\n",
      "Enter your school name: Guru School\n",
      "Enter your degree BSC\n"
     ]
    }
   ],
   "source": [
    "name = input(\"Enter your name:\")\n",
    "age = int(input(\"Enter your age:\"))\n",
    "schoolname=input(\"Enter your school name:\")\n",
    "degree=input(\"Enter your degree\")"
   ]
  },
  {
   "cell_type": "code",
   "execution_count": 31,
   "id": "3229affc-5eac-4d83-ada8-4800e9b7674a",
   "metadata": {},
   "outputs": [
    {
     "name": "stdout",
     "output_type": "stream",
     "text": [
      "a= 43\n",
      "b= 34\n",
      "add =  77\n"
     ]
    }
   ],
   "source": [
    "#Addition\n",
    "a=43\n",
    "b=34\n",
    "print(\"a=\",a)\n",
    "print(\"b=\",b)\n",
    "print(\"add = \",a+b)"
   ]
  },
  {
   "cell_type": "code",
   "execution_count": 33,
   "id": "58cb7105-bd75-4722-86bb-4abdc56c31a3",
   "metadata": {},
   "outputs": [
    {
     "name": "stdout",
     "output_type": "stream",
     "text": [
      "a= 43\n",
      "b= 34\n",
      "Sub =  9\n"
     ]
    }
   ],
   "source": [
    "#Subtraction\n",
    "a=43\n",
    "b=34\n",
    "print(\"a=\",a);\n",
    "print(\"b=\",b);\n",
    "print(\"Sub = \",a-b);"
   ]
  },
  {
   "cell_type": "code",
   "execution_count": 35,
   "id": "d3bb69a7-980e-49e2-af29-2a8465e6d15a",
   "metadata": {
    "scrolled": true
   },
   "outputs": [
    {
     "name": "stdout",
     "output_type": "stream",
     "text": [
      "a= 63\n",
      "b= 97\n",
      "Mul =  6111\n"
     ]
    }
   ],
   "source": [
    "#Multiplication\n",
    "a=63\n",
    "b=97\n",
    "print(\"a=\",a);\n",
    "print(\"b=\",b);\n",
    "print(\"Mul = \",a*b);"
   ]
  },
  {
   "cell_type": "code",
   "execution_count": 37,
   "id": "b60bf80c-b2a9-4705-ad36-f356664e256c",
   "metadata": {},
   "outputs": [
    {
     "name": "stdout",
     "output_type": "stream",
     "text": [
      "a= 76\n",
      "b= 31\n",
      "Float div =  2.4516129032258065\n"
     ]
    }
   ],
   "source": [
    "#Division\n",
    "a=76\n",
    "b=31\n",
    "print(\"a=\",a);\n",
    "print(\"b=\",b);\n",
    "print(\"Float div = \",a/b);"
   ]
  },
  {
   "cell_type": "code",
   "execution_count": 39,
   "id": "81bb1b2b-0948-4311-9441-3df69d268f74",
   "metadata": {
    "scrolled": true
   },
   "outputs": [
    {
     "name": "stdout",
     "output_type": "stream",
     "text": [
      "a= 76\n",
      "b= 31\n",
      "Floor div =  2\n"
     ]
    }
   ],
   "source": [
    "#Floor division\n",
    "a=76\n",
    "b=31\n",
    "print(\"a=\",a);\n",
    "print(\"b=\",b);\n",
    "print(\"Floor div = \",a // b);"
   ]
  },
  {
   "cell_type": "code",
   "execution_count": 19,
   "id": "7ddeff23-755a-4955-ab6c-9045e6117078",
   "metadata": {},
   "outputs": [
    {
     "name": "stdout",
     "output_type": "stream",
     "text": [
      "a= 76\n",
      "b= 31\n",
      "Modulo =  14\n"
     ]
    }
   ],
   "source": [
    "#Modulo division\n",
    "a=76\n",
    "b=31\n",
    "print(\"a=\",a);\n",
    "print(\"b=\",b);\n",
    "print(\"Modulo = \",a % b);"
   ]
  },
  {
   "cell_type": "code",
   "execution_count": 42,
   "id": "d80460d0-f17e-4b46-96a9-13828e49e718",
   "metadata": {},
   "outputs": [
    {
     "name": "stdout",
     "output_type": "stream",
     "text": [
      "a= 4\n",
      "b= 4\n",
      "POW =  256\n"
     ]
    }
   ],
   "source": [
    "#Power\n",
    "a=4\n",
    "b=4\n",
    "print(\"a=\",a);\n",
    "print(\"b=\",b);\n",
    "print(\"POW = \",pow(a,b));"
   ]
  },
  {
   "cell_type": "code",
   "execution_count": null,
   "id": "d4f48c31-1fdb-4df7-9775-f592ed2cc4c1",
   "metadata": {},
   "outputs": [],
   "source": []
  },
  {
   "cell_type": "code",
   "execution_count": null,
   "id": "7c051f5d-7e8f-4506-8078-3dfcb7c7c096",
   "metadata": {},
   "outputs": [],
   "source": []
  }
 ],
 "metadata": {
  "kernelspec": {
   "display_name": "Python 3 (ipykernel)",
   "language": "python",
   "name": "python3"
  },
  "language_info": {
   "codemirror_mode": {
    "name": "ipython",
    "version": 3
   },
   "file_extension": ".py",
   "mimetype": "text/x-python",
   "name": "python",
   "nbconvert_exporter": "python",
   "pygments_lexer": "ipython3",
   "version": "3.12.4"
  }
 },
 "nbformat": 4,
 "nbformat_minor": 5
}
